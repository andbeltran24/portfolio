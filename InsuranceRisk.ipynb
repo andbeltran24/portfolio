{
 "cells": [
  {
   "cell_type": "markdown",
   "id": "e962c030-b156-46b2-8a75-310a0aad7c79",
   "metadata": {},
   "source": [
    "# Insurance Risk assessment with Monte Carlo method using Apacge Spark"
   ]
  },
  {
   "cell_type": "markdown",
   "id": "05b44a61-2c2e-47a9-a082-d9fd64476313",
   "metadata": {},
   "source": [
    "In this notebook the Monte Carlo method is used to calculate the ruin probability of an insurance company using Apcache Spark by means of parallel Monte Carlo method\n"
   ]
  },
  {
   "cell_type": "markdown",
   "id": "a0502c3a-92ee-48ed-bd6d-3bbb5b17f771",
   "metadata": {},
   "source": [
    "> Monte Carlo Method\n",
    "\n",
    " The main idea of this method is that if you want to estimate the probability of some randon event, just repeat your experiment many times. More experiments, more accuracy."
   ]
  },
  {
   "cell_type": "markdown",
   "id": "b867929a-14ac-4f7d-a480-80d661751c33",
   "metadata": {},
   "source": [
    "> Example 1: Calculating pi value by means of Monte Carlo Method \n",
    "The idea is simple - we draw a unit square with an inner circle and then generate a large number of random points uniformly distributed within the square."
   ]
  },
  {
   "cell_type": "markdown",
   "id": "57c5316c-b9b2-464c-af87-bca25610b5ee",
   "metadata": {},
   "source": [
    "<left>\n",
    "    <img src=\"https://cf-courses-data.s3.us.cloud-object-storage.appdomain.cloud/insurance-risk-assessment-with-montecarlo-method-using-apache-spark/images/circle.jpg\" width=\"500\" alt=\"MC Pi sampling\"  />\n",
    "</left>"
   ]
  },
  {
   "cell_type": "markdown",
   "id": "923ac52b-4d79-4d7d-82c6-357474e76425",
   "metadata": {},
   "source": [
    "$\\frac{{Circle surface}}{{Square;surface}} \\approx \\frac{{Dots;in;circle }}{{Dots;in;square}} $\n"
   ]
  },
  {
   "cell_type": "code",
   "execution_count": 10,
   "id": "e47ff538-55c4-4b01-bce0-af1898c15bd2",
   "metadata": {},
   "outputs": [],
   "source": [
    "import random\n",
    "#Amount of points to generate\n",
    "N=1000000"
   ]
  },
  {
   "cell_type": "code",
   "execution_count": 11,
   "id": "725c62b2-c250-4192-b4bc-da5138e15003",
   "metadata": {},
   "outputs": [
    {
     "name": "stdout",
     "output_type": "stream",
     "text": [
      "The estimation of value of pi is  3.141344\n"
     ]
    }
   ],
   "source": [
    "# Number of dots in the circle \n",
    "bingo=0\n",
    "\n",
    "for i in range(N):\n",
    "    #Generate the random dots with uniform distribution within a square  \n",
    "    x=random.uniform(-0.5,0.5)\n",
    "    y=random.uniform(-0.5,0.5)\n",
    "    #check if the dots hit the circle area\n",
    "    if (x**2+y**2)<=0.25:\n",
    "        #if they hit bingo! we add one more\n",
    "        bingo+=1\n",
    "        \n",
    "    #Estimating value of pi \n",
    "    pi=4*bingo/N\n",
    "    \n",
    "print(\"The estimation of value of pi is \", pi)\n",
    "        "
   ]
  },
  {
   "cell_type": "markdown",
   "id": "97e7588b-1b2c-4175-badc-3c35ab08244a",
   "metadata": {},
   "source": [
    "# Ruin Probability calculation \n",
    "> lets calculate the ruin probability of an insurance company, by the Classica Risk Procces  "
   ]
  },
  {
   "cell_type": "markdown",
   "id": "6dd949c4-e6aa-4085-bf4f-956c5bb78e93",
   "metadata": {},
   "source": [
    "> # The Classical Risk Process\n",
    "\n",
    "The process describe the initial capital $u$ of a company through incoming cash and outgoing claims. Premiums arrive at a constant rate $c>0$ and claims are random values.\n",
    "    "
   ]
  },
  {
   "cell_type": "markdown",
   "id": "5203947e-9c6c-4b1c-b129-ef245ea148f3",
   "metadata": {},
   "source": [
    "<left>\n",
    "    <img src=\"https://cf-courses-data.s3.us.cloud-object-storage.appdomain.cloud/insurance-risk-assessment-with-montecarlo-method-using-apache-spark/images/RiskProcess.JPG\" width=\"500\" alt=\"Classical Risk Process\"  />\n",
    "</left>\n"
   ]
  },
  {
   "cell_type": "markdown",
   "id": "f45daa69-1341-413b-8cd5-32c04f371afb",
   "metadata": {},
   "source": [
    "${F(t)} = u + ct - \\sum_{i=1}^{N_t}{\\xi_i}$"
   ]
  },
  {
   "cell_type": "markdown",
   "id": "c1d54d28-7ea1-4b29-a21c-e020c16cc359",
   "metadata": {},
   "source": [
    " where $F(t)$ is the capital of the company at the time moment $t$"
   ]
  },
  {
   "cell_type": "markdown",
   "id": "422755e8-c1fc-41f2-af3f-6c3269b317ae",
   "metadata": {},
   "source": [
    "# Initialization Spark "
   ]
  },
  {
   "cell_type": "code",
   "execution_count": 15,
   "id": "2e745da3-f77a-41ea-9d7b-cc98d5221162",
   "metadata": {
    "collapsed": true,
    "jupyter": {
     "outputs_hidden": true
    },
    "tags": []
   },
   "outputs": [
    {
     "name": "stdout",
     "output_type": "stream",
     "text": [
      "Collecting pyspark\n",
      "  Downloading pyspark-3.4.0.tar.gz (310.8 MB)\n",
      "\u001b[2K     \u001b[38;2;114;156;31m━━━━━━━━━━━━━━━━━━━━━━━━━━━━━━━━━━━━━━━\u001b[0m \u001b[32m310.8/310.8 MB\u001b[0m \u001b[31m3.9 MB/s\u001b[0m eta \u001b[36m0:00:00\u001b[0mm eta \u001b[36m0:00:01\u001b[0m[36m0:00:01\u001b[0m\n",
      "\u001b[?25h  Preparing metadata (setup.py) ... \u001b[?25ldone\n",
      "\u001b[?25hCollecting py4j==0.10.9.7 (from pyspark)\n",
      "  Downloading py4j-0.10.9.7-py2.py3-none-any.whl (200 kB)\n",
      "\u001b[2K     \u001b[38;2;114;156;31m━━━━━━━━━━━━━━━━━━━━━━━━━━━━━━━━━━━━━━━\u001b[0m \u001b[32m200.5/200.5 kB\u001b[0m \u001b[31m3.0 MB/s\u001b[0m eta \u001b[36m0:00:00\u001b[0m0m eta \u001b[36m-:--:--\u001b[0m\n",
      "\u001b[?25hBuilding wheels for collected packages: pyspark\n",
      "  Building wheel for pyspark (setup.py) ... \u001b[?25ldone\n",
      "\u001b[?25h  Created wheel for pyspark: filename=pyspark-3.4.0-py2.py3-none-any.whl size=311317131 sha256=79075f1a9367e65816aa0246b7d1ec8d4332424e9a05a44c93f09701ecb44ab3\n",
      "  Stored in directory: /home/andres/.cache/pip/wheels/9f/34/a4/159aa12d0a510d5ff7c8f0220abbea42e5d81ecf588c4fd884\n",
      "Successfully built pyspark\n",
      "Installing collected packages: py4j, pyspark\n",
      "Successfully installed py4j-0.10.9.7 pyspark-3.4.0\n"
     ]
    }
   ],
   "source": [
    "!pip install pyspark"
   ]
  },
  {
   "cell_type": "code",
   "execution_count": 16,
   "id": "a4c49382-ebf8-476a-903f-52b0996b9996",
   "metadata": {},
   "outputs": [],
   "source": [
    "try:\n",
    "    from pyspark import SparkContext, SparkConf\n",
    "    from pyspark.sql import SparkSession\n",
    "except ImportError as e:\n",
    "    printmd('<<<!!!!! Please restart your kernel after installing Apache Spark !!!!!>>>')"
   ]
  },
  {
   "cell_type": "code",
   "execution_count": 20,
   "id": "13934813-bd47-484d-b3e0-b3ed3f19da82",
   "metadata": {},
   "outputs": [],
   "source": [
    "sc = SparkContext.getOrCreate(SparkConf().setMaster(\"local[*]\"))\n",
    "\n",
    "spark = SparkSession \\\n",
    "    .builder \\\n",
    "    .getOrCreate()"
   ]
  },
  {
   "cell_type": "markdown",
   "id": "8b69b1bc-6b57-48d8-9165-5689f86d9896",
   "metadata": {},
   "source": [
    "# CALCULATIONS FOR CLASSICAL RISK PROCESS\n",
    "> # Model parameters\n",
    "For this calculation the following parameters were considered: INITIAL_CAPITAL,INCOME_INTENSITY,CLAIM_MEAN. \n",
    "Where claims are independent and identically distributed non- negative random variables (exponentially distributed claim size with CLAIM_MEAN as positive value) and arriving according to a Poisson procces."
   ]
  },
  {
   "cell_type": "code",
   "execution_count": 47,
   "id": "2f3c5e4e-d464-4e21-aa37-5e399ab185fc",
   "metadata": {},
   "outputs": [],
   "source": [
    "INITIAL_CAPITAL= 1000 #Initial Capital\n",
    "MAXTIME=24     # Simulation period\n",
    "INCOME_INTENSITY=50  #Income intensity per time unit\n",
    "CLAIM_INTENSITY=1  #Time between claims is exponentialy distributed\n",
    "CLAIM_MEAN=45       #Claims are expomemtialy distributed with CALIM_MEAN > 0\n",
    "TRAJEC_NUM=1000     #Number of trajectories simulated "
   ]
  },
  {
   "cell_type": "markdown",
   "id": "eea1c03a-68e3-42ac-b260-bf8201a59af8",
   "metadata": {},
   "source": [
    "# The Model "
   ]
  },
  {
   "cell_type": "code",
   "execution_count": 26,
   "id": "1e64c59b-145c-4e4b-9ff3-8367f402c40f",
   "metadata": {},
   "outputs": [],
   "source": [
    "import time \n",
    "from operator import add\n",
    "\n",
    "def bankrupcy(seed):\n",
    "    random.seed(seed)\n",
    "    capital=INITIAL_CAPITAL\n",
    "    time=0\n",
    "    while(time<MAXTIME and capital>=0):\n",
    "        time_step=random.expovariate(CLAIM_INTENSITY)\n",
    "        time+=time_step\n",
    "        capital+=INCOME_INTENSITY*time_step-random.expovariate(1/CLAIM_MEAN)\n",
    "    if (capital<0):\n",
    "        return 1\n",
    "    else:\n",
    "        return 0\n"
   ]
  },
  {
   "cell_type": "markdown",
   "id": "c4c30b50-e28f-45bc-8eef-f0f4f81ff1cb",
   "metadata": {},
   "source": [
    "# Calculations"
   ]
  },
  {
   "cell_type": "markdown",
   "id": "82f38d54-8fb9-48ad-a931-5cb0fe6239e1",
   "metadata": {},
   "source": [
    "> Here spark is used to do the massive trajectories simulation using parallelization"
   ]
  },
  {
   "cell_type": "code",
   "execution_count": 48,
   "id": "ccefee8e-9ed3-440e-a891-344f50847be3",
   "metadata": {},
   "outputs": [
    {
     "name": "stdout",
     "output_type": "stream",
     "text": [
      "The company will bankrupt with 0.002 probability\n"
     ]
    }
   ],
   "source": [
    "ruin_probability=sc.parallelize([time.time()+i for i in range(TRAJEC_NUM)]).map(bankrupcy).reduce(add)/TRAJEC_NUM\n",
    "print(\"The company will bankrupt with\", ruin_probability, \"probability\")"
   ]
  },
  {
   "cell_type": "code",
   "execution_count": null,
   "id": "4311295c-1c88-45fb-a5a4-dcee16a403cc",
   "metadata": {},
   "outputs": [],
   "source": []
  }
 ],
 "metadata": {
  "kernelspec": {
   "display_name": "Python 3 (ipykernel)",
   "language": "python",
   "name": "python3"
  },
  "language_info": {
   "codemirror_mode": {
    "name": "ipython",
    "version": 3
   },
   "file_extension": ".py",
   "mimetype": "text/x-python",
   "name": "python",
   "nbconvert_exporter": "python",
   "pygments_lexer": "ipython3",
   "version": "3.9.13"
  }
 },
 "nbformat": 4,
 "nbformat_minor": 5
}
